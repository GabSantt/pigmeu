{
 "cells": [
  {
   "cell_type": "markdown",
   "metadata": {},
   "source": [
    "olá.\n",
    "OPERADORES ARITMETICOS:\n",
    "    ORDEM DE PRECEDENCIA: () ; ** ; * // E % ; + -\n",
    "    float= numeros  quebrados\n",
    "\n"
   ]
  },
  {
   "cell_type": "markdown",
   "metadata": {},
   "source": [
    "<link rel=\"stylesheet\" href=\"../../Configurations folder/style/style.css\">\n",
    "\n",
    "#### <h4>O que são operadores arit</h4>"
   ]
  },
  {
   "cell_type": "markdown",
   "metadata": {},
   "source": [
    "<link rel=\"stylesheet\" href=\"../../Configurations folder/style/style.css\">\n",
    "\n",
    "<p>Os operadores <span>são símbolos especiais que realizam operações em operandos para produzir um resultado</span>. Eles são utilizados para realizar <span>cálculos</span>, <span>comparações</span> e <span>outras operações</span> em diferentes tipos de dados.</p>\n",
    "<br>\n",
    "<p>Existem vários tipos de operadores em Python, incluindo:</p>\n",
    "<br>\n",
    "<ul>\n",
    "<li><p>Operadores <span style=\"font-size:105%;\">Aritméticos</span>: São utilizados para realizar operações matemáticas básicas, como adição, subtração, multiplicação, divisão, etc.</p></li>\n",
    "<li><p>Operadores de <span style=\"font-size:105%;\">Atribuição</span>: São usados para atribuir valores a variáveis. O operador de atribuição básico em Python é o sinal de igual (=).</p></li>\n",
    "<li><p>Operadores de <span style=\"font-size:105%;\">Comparação</span> (Relacionais): São usados para comparar dois valores e retornar um resultado booleano que indica se a comparação é verdadeira ou falsa.</p></li>\n",
    "<li><p>Operadores <span style=\"font-size:105%;\">Lógicos</span>: São utilizados para realizar operações lógicas em valores booleanos. Os operadores lógicos mais comuns são AND, OR e NOT.</p></li>\n",
    "<li><p>Operadores de <span style=\"font-size:105%;\">Identidade</span>: São usados para verificar se dois objetos têm a mesma identidade (ou seja, se estão armazenados no mesmo local na memória).</p></li>\n",
    "<li><p>Operadores de <span style=\"font-size:105%;\">Associação</span> (Membership): São utilizados para verificar se um valor está presente em uma sequência (como uma lista, tupla, conjunto ou dicionário).</p></li>\n",
    "<li><p>Operadores de <span style=\"font-size:105%;\">Bitwise</span>: São usados para realizar operações bit a bit em valores inteiros.</p></li>\n",
    "</ul>\n",
    "<br>\n",
    "<p>Esses operadores são fundamentais para realizar diferentes tipos de operações em Python e são amplamente utilizados em programação para manipular dados e controlar o fluxo de execução do programa.</span>"
   ]
  }
 ],
 "metadata": {
  "language_info": {
   "name": "python"
  }
 },
 "nbformat": 4,
 "nbformat_minor": 2
}
